{
 "cells": [
  {
   "cell_type": "code",
   "execution_count": 1,
   "metadata": {},
   "outputs": [],
   "source": [
    "%run oax2index.ipynb\n",
    "import os\n",
    "import re\n",
    "import json"
   ]
  },
  {
   "cell_type": "code",
   "execution_count": null,
   "metadata": {},
   "outputs": [],
   "source": [
    "data_folder = 'oax_data'\n",
    "filenames = os.listdir(data_folder)\n",
    "files = list(map(lambda filename: os.path.join(data_folder, filename), sorted(filenames)))\n",
    "\n",
    "regex = re.compile(r\"\\d+-\\d+-\\d+ \\d+\")\n",
    "index_set = dict()\n",
    "for file in files:\n",
    "    try:\n",
    "        key = regex.findall(file)[0]\n",
    "        index_set[key] = OAX_ReadFile(file)\n",
    "    except:\n",
    "        print(\"##### ERROR INDEXING {} #####\".format(file))\n",
    "    \n",
    "with open('index_set.json', 'w+') as outfile:\n",
    "    json.dump(index_set, outfile)"
   ]
  }
 ],
 "metadata": {
  "kernelspec": {
   "display_name": "Python 3",
   "language": "python",
   "name": "python3"
  },
  "language_info": {
   "codemirror_mode": {
    "name": "ipython",
    "version": 3
   },
   "file_extension": ".py",
   "mimetype": "text/x-python",
   "name": "python",
   "nbconvert_exporter": "python",
   "pygments_lexer": "ipython3",
   "version": "3.8.5"
  }
 },
 "nbformat": 4,
 "nbformat_minor": 4
}
